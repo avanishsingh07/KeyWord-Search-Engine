{
 "cells": [
  {
   "cell_type": "code",
   "execution_count": 5,
   "id": "2ad0c21e",
   "metadata": {},
   "outputs": [],
   "source": [
    "import spacy\n",
    "import PyPDF2\n",
    "import enchant\n",
    "import en_core_web_sm\n",
    "from spacy.matcher import PhraseMatcher\n",
    "from scipy import spatial\n",
    "import time\n",
    "from spacy.tokens import DocBin\n",
    "from spacy.tokens import Doc\n",
    "from spacy.vocab import Vocab"
   ]
  },
  {
   "cell_type": "code",
   "execution_count": 9,
   "id": "f8988f9d",
   "metadata": {},
   "outputs": [],
   "source": [
    "def spacy_to_doc(docbin_file_name):\n",
    "    nlp=en_core_web_sm.load()\n",
    "    doc_bin2 = DocBin().from_disk(docbin_file_name)#\"spacydoc5.spacy\"\n",
    "    doc_list=list(doc_bin2.get_docs(nlp.vocab))\n",
    "    Doc.set_extension(\"my_custom_attr\", default=None,force=True)\n",
    "    #print([doca._.my_custom_attr for doca in doc_list])\n",
    "    for doca in doc_list:\n",
    "        doca._.my_custom_attr\n",
    "    return doca"
   ]
  },
  {
   "cell_type": "code",
   "execution_count": 12,
   "id": "c2412bc2",
   "metadata": {},
   "outputs": [],
   "source": [
    "def search_for_keyword(keyword):\n",
    "    nlp=en_core_web_sm.load()\n",
    "    doc_obj=spacy_to_doc(\"spacydoc5.spacy\")\n",
    "    phrase_matcher = PhraseMatcher(nlp.vocab)\n",
    "    phrase_list = [nlp(keyword)]\n",
    "    phrase_matcher.add(\"Text Extractor\", None, *phrase_list)\n",
    "\n",
    "    matched_items = phrase_matcher(doc_obj)\n",
    "\n",
    "    matched_text = []\n",
    "    for match_id, start, end in matched_items:\n",
    "        text = nlp.vocab.strings[match_id]\n",
    "        span = doc_obj[start: end]\n",
    "        matched_text.append(span.sent.text)\n",
    "    return matched_text"
   ]
  },
  {
   "cell_type": "code",
   "execution_count": 20,
   "id": "a33811fe",
   "metadata": {},
   "outputs": [
    {
     "name": "stdout",
     "output_type": "stream",
     "text": [
      "Input keyword.......\n",
      "mvanzijl79@gmail.com\n",
      "['mybouncesonly@gmail.com:realms\\n webmaster@hbz.bz:realms5\\n hooklist1@gmail.com:realms\\n leslieewillats@gmail.com:tigger29\\n giliganzer@gmail.com:2504inamanina2006\\n betheking91@gmail.com:pondy)*\\n adeuk72@gmail.com:#yhw2p9ehv\\n power2earntw@gmail.com:ruffduck\\n mhugh50@gmail.com:1q2w3e\\n jasond188@gmail.com:boddy123\\n mudman817@gmail.com:ophelia817\\n jw9085387@gmail.com:1q2w3e\\n etrafficsurge@gmail.com:car123\\n viknik19ko66kn@gmail.com:vikokkk1966\\n hgordon@sbcglobal.net:#1pr626\\n rrhomes@hotmail.com:primo3\\n mvanzijl79@gmail.com:mo080879\\n notrafficneeded@gmail.com:red59\\n 5angels4u@gmail.com:101617adzglorybe2716\\n jerrycoffee50@gmail.com:baracuda76\\n teamelitemom@gmail.com:ps1085ps1085\\n darsbro@gmail.com:rogue2012\\n imrers@gmail.com:ciuc2000#\\n misterkool50@gmail.com:l110558\\n foxybird123@gmail.com:eastwest\\n mdwhttl@gmail.com:mdunky09\\n cruiserbrown@gmail.com:traffic22\\n reducethehype@gmail.com:dxh2ahgytml3z8rt\\n richard.moyer.1953@gmail.com:tinkerbell\\n httslcontact@gmail.com:zipperzoo1\\n malsoufi01@gmail.com:malsoufixyz\\n itsup2u@usa.com:highway1\\n w56496@aol.com:baby21$$\\n ifalola@teprofits-chicago.com:alafia\\n pinkie005@gmail.com:pinkie25\\n myproductz4u@gmail.com:fairlea2920\\n frncswhite@gmail.com:narf0044\\n kanakjyoti4@gmail.com:']\n",
      "--- 2.6856770515441895 seconds ---\n"
     ]
    }
   ],
   "source": [
    "start_time = time.time()\n",
    "def main():\n",
    "    input_keyword=input(\"Input keyword.......\\n\")#'mvanzijl79@gmail.com'\n",
    "    print(search_for_keyword(input_keyword))\n",
    "    print(\"--- %s seconds ---\" % (time.time() - start_time))\n",
    "    \n",
    "if __name__ == \"__main__\":\n",
    "    main()"
   ]
  },
  {
   "cell_type": "code",
   "execution_count": null,
   "id": "2a62e756",
   "metadata": {},
   "outputs": [],
   "source": []
  }
 ],
 "metadata": {
  "kernelspec": {
   "display_name": "Python 3 (ipykernel)",
   "language": "python",
   "name": "python3"
  },
  "language_info": {
   "codemirror_mode": {
    "name": "ipython",
    "version": 3
   },
   "file_extension": ".py",
   "mimetype": "text/x-python",
   "name": "python",
   "nbconvert_exporter": "python",
   "pygments_lexer": "ipython3",
   "version": "3.8.8"
  }
 },
 "nbformat": 4,
 "nbformat_minor": 5
}
